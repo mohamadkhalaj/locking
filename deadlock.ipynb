{
 "cells": [
  {
   "cell_type": "code",
   "execution_count": 1,
   "id": "ed573331",
   "metadata": {},
   "outputs": [
    {
     "name": "stdout",
     "output_type": "stream",
     "text": [
      "Thread1 acquiring lock a\n",
      "Thread2 acquiring lock a\n",
      "Thread1 acquiring lock b\n",
      "Thread1 releasing both locks\n",
      "Thread2 acquiring lock b\n",
      "Thread2 releasing both locks\n"
     ]
    }
   ],
   "source": [
    "import threading\n",
    "import time\n",
    "\n",
    "alock = threading.Lock()\n",
    "block = threading.Lock()\n",
    "\n",
    "def thread1calc(a, b):\n",
    "    print(\"Thread1 acquiring lock a\")\n",
    "    alock.acquire()\n",
    "    time.sleep(5)\n",
    "\n",
    "    print(\"Thread1 acquiring lock b\")\n",
    "    block.acquire()\n",
    "    time.sleep(5)\n",
    "    a += 5\n",
    "    b += 5\n",
    "\n",
    "    print(\"Thread1 releasing both locks\")\n",
    "    block.release()\n",
    "    alock.release()\n",
    "\n",
    "def thread2calc(a, b):\n",
    "    print(\"Thread2 acquiring lock b\")\n",
    "    block.acquire()\n",
    "    time.sleep(5)\n",
    "\n",
    "    print(\"Thread2 acquiring lock a\")\n",
    "    alock.acquire()\n",
    "    time.sleep(5)\n",
    "    a += 10\n",
    "    b += 10\n",
    "\n",
    "    print(\"Thread2 releasing both locks\")\n",
    "    block.release()\n",
    "    alock.release()\n",
    "\n",
    "t = threading.Thread(target=thread1calc, args=(4, 5))\n",
    "t.setDaemon(1)\n",
    "t.start()\n",
    "\n",
    "t = threading.Thread(target = thread2calc, args=(6, 8))\n",
    "t.setDaemon(2)\n",
    "t.start()\n",
    "\n",
    "while 1:\n",
    "    time.sleep(300)"
   ]
  }
 ],
 "metadata": {
  "interpreter": {
   "hash": "a6e547f4e9afc91fbe836f08bad9d3ce4b0e6a8cf701daaacddb49fd6da630c2"
  },
  "kernelspec": {
   "display_name": "Python 3 (ipykernel)",
   "language": "python",
   "name": "python3"
  },
  "language_info": {
   "codemirror_mode": {
    "name": "ipython",
    "version": 3
   },
   "file_extension": ".py",
   "mimetype": "text/x-python",
   "name": "python",
   "nbconvert_exporter": "python",
   "pygments_lexer": "ipython3",
   "version": "3.8.10"
  }
 },
 "nbformat": 4,
 "nbformat_minor": 5
}
